{
 "cells": [
  {
   "cell_type": "code",
   "execution_count": 19,
   "metadata": {},
   "outputs": [
    {
     "name": "stdout",
     "output_type": "stream",
     "text": [
      "[-1]\n"
     ]
    }
   ],
   "source": [
    "import commonroad_dc.collision.trajectory_queries.trajectory_queries as trajectory_queries\n",
    "\n",
    "import copy\n",
    "\n",
    "import commonroad_dc.pycrcc as pycrcc\n",
    "\n",
    "tvobstacle=pycrcc.TimeVariantCollisionObject(0)\n",
    "\n",
    "tvobstacle.append_obstacle(pycrcc.ShapeGroup())\n",
    "\n",
    "obb=pycrcc.RectOBB(1,1,0,0,0)\n",
    "\n",
    "tvobstacle_2=pycrcc.TimeVariantCollisionObject(0)\n",
    "\n",
    "tvobstacle_2.append_obstacle(obb)\n",
    "\n",
    "sg_boxes=pycrcc.ShapeGroup()\n",
    "\n",
    "traj=copy.deepcopy(tvobstacle)\n",
    "\n",
    "res_static=trajectory_queries.trajectories_collision_static_obstacles([tvobstacle],static_obstacles=sg_boxes,method='grid',enable_verification=True)\n",
    "\n",
    "res_dynamic=trajectory_queries.trajectories_collision_dynamic_obstacles([tvobstacle],[traj],method='grid')\n",
    "\n",
    "res_poly=trajectory_queries.trajectories_enclosure_road_polygons_static([tvobstacle_2],sg_boxes)\n",
    "\n",
    "print(res_fcl)"
   ]
  },
  {
   "cell_type": "code",
   "execution_count": null,
   "metadata": {},
   "outputs": [],
   "source": []
  }
 ],
 "metadata": {
  "kernelspec": {
   "display_name": "Python 3",
   "language": "python",
   "name": "python3"
  },
  "language_info": {
   "codemirror_mode": {
    "name": "ipython",
    "version": 3
   },
   "file_extension": ".py",
   "mimetype": "text/x-python",
   "name": "python",
   "nbconvert_exporter": "python",
   "pygments_lexer": "ipython3",
   "version": "3.6.10"
  }
 },
 "nbformat": 4,
 "nbformat_minor": 4
}
