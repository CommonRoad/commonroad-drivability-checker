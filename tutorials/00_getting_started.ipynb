{
 "cells": [
  {
   "cell_type": "markdown",
   "metadata": {
    "collapsed": true,
    "pycharm": {
     "name": "#%% md\n"
    }
   },
   "source": [
    "# Tutorial 00: Drivability Checker - Getting Started\n",
    "\n",
    "This tutorial gives you a quick overview over the basic functionalities of the CommonRoad drivability checker toolbox.\n",
    "Please make sure you have gone through the tutorials for **CommonRoad Input-Output** beforehand.\n",
    "\n",
    "The drivability checker toolbox offers three main functions for checking the planned trajectory of the ego vehicle:\n",
    "\n",
    "* **collision checking**: ensures that the planned trajectory does not collide with other obstacles\n",
    "* **road-compliance**: ensures that the planned trajectory does not leave the road boundaries\n",
    "* **kinematic feasibility**: ensures that the planned motion can be executed by a specified vehicle model\n",
    "\n",
    "In the following sections, we provide a basic demonstration on how to perform these three checks for a simple scenario.\n",
    "\n",
    "For a more detailed description of these functions, please check out the **advanced tutorials 02-05**.\n",
    "\n"
   ]
  },
  {
   "cell_type": "markdown",
   "metadata": {
    "pycharm": {
     "name": "#%% md\n"
    }
   },
   "source": [
    "## Load CommonRoad scenario"
   ]
  },
  {
   "cell_type": "code",
   "execution_count": 1,
   "metadata": {
    "pycharm": {
     "name": "#%%\n"
    }
   },
   "outputs": [
    {
     "name": "stderr",
     "output_type": "stream",
     "text": [
      "/home/gerald/anaconda3/envs/commonroad1/lib/python3.7/site-packages/commonroad/common/reader/file_reader_xml.py:1344: UserWarning: State at time step 1 cannot be matched!\n",
      "  warnings.warn(\"State at time step {} cannot be matched!\".format(read_time(xml_node.find('time'))))\n",
      "/home/gerald/anaconda3/envs/commonroad1/lib/python3.7/site-packages/commonroad/common/reader/file_reader_xml.py:1344: UserWarning: State at time step 2 cannot be matched!\n",
      "  warnings.warn(\"State at time step {} cannot be matched!\".format(read_time(xml_node.find('time'))))\n",
      "/home/gerald/anaconda3/envs/commonroad1/lib/python3.7/site-packages/commonroad/common/reader/file_reader_xml.py:1344: UserWarning: State at time step 3 cannot be matched!\n",
      "  warnings.warn(\"State at time step {} cannot be matched!\".format(read_time(xml_node.find('time'))))\n",
      "/home/gerald/anaconda3/envs/commonroad1/lib/python3.7/site-packages/commonroad/common/reader/file_reader_xml.py:1344: UserWarning: State at time step 4 cannot be matched!\n",
      "  warnings.warn(\"State at time step {} cannot be matched!\".format(read_time(xml_node.find('time'))))\n",
      "/home/gerald/anaconda3/envs/commonroad1/lib/python3.7/site-packages/commonroad/common/reader/file_reader_xml.py:1344: UserWarning: State at time step 5 cannot be matched!\n",
      "  warnings.warn(\"State at time step {} cannot be matched!\".format(read_time(xml_node.find('time'))))\n",
      "/home/gerald/anaconda3/envs/commonroad1/lib/python3.7/site-packages/commonroad/common/reader/file_reader_xml.py:1344: UserWarning: State at time step 6 cannot be matched!\n",
      "  warnings.warn(\"State at time step {} cannot be matched!\".format(read_time(xml_node.find('time'))))\n",
      "/home/gerald/anaconda3/envs/commonroad1/lib/python3.7/site-packages/commonroad/common/reader/file_reader_xml.py:1344: UserWarning: State at time step 7 cannot be matched!\n",
      "  warnings.warn(\"State at time step {} cannot be matched!\".format(read_time(xml_node.find('time'))))\n",
      "/home/gerald/anaconda3/envs/commonroad1/lib/python3.7/site-packages/commonroad/common/reader/file_reader_xml.py:1344: UserWarning: State at time step 8 cannot be matched!\n",
      "  warnings.warn(\"State at time step {} cannot be matched!\".format(read_time(xml_node.find('time'))))\n",
      "/home/gerald/anaconda3/envs/commonroad1/lib/python3.7/site-packages/commonroad/common/reader/file_reader_xml.py:1344: UserWarning: State at time step 9 cannot be matched!\n",
      "  warnings.warn(\"State at time step {} cannot be matched!\".format(read_time(xml_node.find('time'))))\n",
      "/home/gerald/anaconda3/envs/commonroad1/lib/python3.7/site-packages/commonroad/common/reader/file_reader_xml.py:1344: UserWarning: State at time step 10 cannot be matched!\n",
      "  warnings.warn(\"State at time step {} cannot be matched!\".format(read_time(xml_node.find('time'))))\n",
      "/home/gerald/anaconda3/envs/commonroad1/lib/python3.7/site-packages/commonroad/common/reader/file_reader_xml.py:1344: UserWarning: State at time step 11 cannot be matched!\n",
      "  warnings.warn(\"State at time step {} cannot be matched!\".format(read_time(xml_node.find('time'))))\n",
      "/home/gerald/anaconda3/envs/commonroad1/lib/python3.7/site-packages/commonroad/common/reader/file_reader_xml.py:1344: UserWarning: State at time step 12 cannot be matched!\n",
      "  warnings.warn(\"State at time step {} cannot be matched!\".format(read_time(xml_node.find('time'))))\n",
      "/home/gerald/anaconda3/envs/commonroad1/lib/python3.7/site-packages/commonroad/common/reader/file_reader_xml.py:1344: UserWarning: State at time step 13 cannot be matched!\n",
      "  warnings.warn(\"State at time step {} cannot be matched!\".format(read_time(xml_node.find('time'))))\n",
      "/home/gerald/anaconda3/envs/commonroad1/lib/python3.7/site-packages/commonroad/common/reader/file_reader_xml.py:1344: UserWarning: State at time step 14 cannot be matched!\n",
      "  warnings.warn(\"State at time step {} cannot be matched!\".format(read_time(xml_node.find('time'))))\n",
      "/home/gerald/anaconda3/envs/commonroad1/lib/python3.7/site-packages/commonroad/common/reader/file_reader_xml.py:1344: UserWarning: State at time step 15 cannot be matched!\n",
      "  warnings.warn(\"State at time step {} cannot be matched!\".format(read_time(xml_node.find('time'))))\n",
      "/home/gerald/anaconda3/envs/commonroad1/lib/python3.7/site-packages/commonroad/common/reader/file_reader_xml.py:1344: UserWarning: State at time step 16 cannot be matched!\n",
      "  warnings.warn(\"State at time step {} cannot be matched!\".format(read_time(xml_node.find('time'))))\n",
      "/home/gerald/anaconda3/envs/commonroad1/lib/python3.7/site-packages/commonroad/common/reader/file_reader_xml.py:1344: UserWarning: State at time step 17 cannot be matched!\n",
      "  warnings.warn(\"State at time step {} cannot be matched!\".format(read_time(xml_node.find('time'))))\n",
      "/home/gerald/anaconda3/envs/commonroad1/lib/python3.7/site-packages/commonroad/common/reader/file_reader_xml.py:1344: UserWarning: State at time step 18 cannot be matched!\n",
      "  warnings.warn(\"State at time step {} cannot be matched!\".format(read_time(xml_node.find('time'))))\n",
      "/home/gerald/anaconda3/envs/commonroad1/lib/python3.7/site-packages/commonroad/common/reader/file_reader_xml.py:1344: UserWarning: State at time step 19 cannot be matched!\n",
      "  warnings.warn(\"State at time step {} cannot be matched!\".format(read_time(xml_node.find('time'))))\n",
      "/home/gerald/anaconda3/envs/commonroad1/lib/python3.7/site-packages/commonroad/common/reader/file_reader_xml.py:1344: UserWarning: State at time step 20 cannot be matched!\n",
      "  warnings.warn(\"State at time step {} cannot be matched!\".format(read_time(xml_node.find('time'))))\n",
      "/home/gerald/anaconda3/envs/commonroad1/lib/python3.7/site-packages/commonroad/common/reader/file_reader_xml.py:1344: UserWarning: State at time step 21 cannot be matched!\n",
      "  warnings.warn(\"State at time step {} cannot be matched!\".format(read_time(xml_node.find('time'))))\n",
      "/home/gerald/anaconda3/envs/commonroad1/lib/python3.7/site-packages/commonroad/common/reader/file_reader_xml.py:1344: UserWarning: State at time step 22 cannot be matched!\n",
      "  warnings.warn(\"State at time step {} cannot be matched!\".format(read_time(xml_node.find('time'))))\n",
      "/home/gerald/anaconda3/envs/commonroad1/lib/python3.7/site-packages/commonroad/common/reader/file_reader_xml.py:1344: UserWarning: State at time step 23 cannot be matched!\n",
      "  warnings.warn(\"State at time step {} cannot be matched!\".format(read_time(xml_node.find('time'))))\n",
      "/home/gerald/anaconda3/envs/commonroad1/lib/python3.7/site-packages/commonroad/common/reader/file_reader_xml.py:1344: UserWarning: State at time step 24 cannot be matched!\n",
      "  warnings.warn(\"State at time step {} cannot be matched!\".format(read_time(xml_node.find('time'))))\n",
      "/home/gerald/anaconda3/envs/commonroad1/lib/python3.7/site-packages/commonroad/common/reader/file_reader_xml.py:1344: UserWarning: State at time step 25 cannot be matched!\n",
      "  warnings.warn(\"State at time step {} cannot be matched!\".format(read_time(xml_node.find('time'))))\n",
      "/home/gerald/anaconda3/envs/commonroad1/lib/python3.7/site-packages/commonroad/common/reader/file_reader_xml.py:1344: UserWarning: State at time step 26 cannot be matched!\n",
      "  warnings.warn(\"State at time step {} cannot be matched!\".format(read_time(xml_node.find('time'))))\n",
      "/home/gerald/anaconda3/envs/commonroad1/lib/python3.7/site-packages/commonroad/common/reader/file_reader_xml.py:1344: UserWarning: State at time step 27 cannot be matched!\n",
      "  warnings.warn(\"State at time step {} cannot be matched!\".format(read_time(xml_node.find('time'))))\n",
      "/home/gerald/anaconda3/envs/commonroad1/lib/python3.7/site-packages/commonroad/common/reader/file_reader_xml.py:1344: UserWarning: State at time step 28 cannot be matched!\n",
      "  warnings.warn(\"State at time step {} cannot be matched!\".format(read_time(xml_node.find('time'))))\n",
      "/home/gerald/anaconda3/envs/commonroad1/lib/python3.7/site-packages/commonroad/common/reader/file_reader_xml.py:1344: UserWarning: State at time step 29 cannot be matched!\n",
      "  warnings.warn(\"State at time step {} cannot be matched!\".format(read_time(xml_node.find('time'))))\n",
      "/home/gerald/anaconda3/envs/commonroad1/lib/python3.7/site-packages/commonroad/common/reader/file_reader_xml.py:1344: UserWarning: State at time step 30 cannot be matched!\n",
      "  warnings.warn(\"State at time step {} cannot be matched!\".format(read_time(xml_node.find('time'))))\n",
      "/home/gerald/anaconda3/envs/commonroad1/lib/python3.7/site-packages/commonroad/common/reader/file_reader_xml.py:1344: UserWarning: State at time step 31 cannot be matched!\n",
      "  warnings.warn(\"State at time step {} cannot be matched!\".format(read_time(xml_node.find('time'))))\n",
      "/home/gerald/anaconda3/envs/commonroad1/lib/python3.7/site-packages/commonroad/common/reader/file_reader_xml.py:1344: UserWarning: State at time step 32 cannot be matched!\n",
      "  warnings.warn(\"State at time step {} cannot be matched!\".format(read_time(xml_node.find('time'))))\n",
      "/home/gerald/anaconda3/envs/commonroad1/lib/python3.7/site-packages/commonroad/common/reader/file_reader_xml.py:1344: UserWarning: State at time step 33 cannot be matched!\n",
      "  warnings.warn(\"State at time step {} cannot be matched!\".format(read_time(xml_node.find('time'))))\n",
      "/home/gerald/anaconda3/envs/commonroad1/lib/python3.7/site-packages/commonroad/common/reader/file_reader_xml.py:1344: UserWarning: State at time step 34 cannot be matched!\n",
      "  warnings.warn(\"State at time step {} cannot be matched!\".format(read_time(xml_node.find('time'))))\n",
      "/home/gerald/anaconda3/envs/commonroad1/lib/python3.7/site-packages/commonroad/common/reader/file_reader_xml.py:1344: UserWarning: State at time step 35 cannot be matched!\n",
      "  warnings.warn(\"State at time step {} cannot be matched!\".format(read_time(xml_node.find('time'))))\n",
      "/home/gerald/anaconda3/envs/commonroad1/lib/python3.7/site-packages/commonroad/common/reader/file_reader_xml.py:1344: UserWarning: State at time step 36 cannot be matched!\n",
      "  warnings.warn(\"State at time step {} cannot be matched!\".format(read_time(xml_node.find('time'))))\n",
      "/home/gerald/anaconda3/envs/commonroad1/lib/python3.7/site-packages/commonroad/common/reader/file_reader_xml.py:1344: UserWarning: State at time step 37 cannot be matched!\n",
      "  warnings.warn(\"State at time step {} cannot be matched!\".format(read_time(xml_node.find('time'))))\n",
      "/home/gerald/anaconda3/envs/commonroad1/lib/python3.7/site-packages/commonroad/common/reader/file_reader_xml.py:1344: UserWarning: State at time step 38 cannot be matched!\n",
      "  warnings.warn(\"State at time step {} cannot be matched!\".format(read_time(xml_node.find('time'))))\n",
      "/home/gerald/anaconda3/envs/commonroad1/lib/python3.7/site-packages/commonroad/common/reader/file_reader_xml.py:1344: UserWarning: State at time step 39 cannot be matched!\n",
      "  warnings.warn(\"State at time step {} cannot be matched!\".format(read_time(xml_node.find('time'))))\n",
      "/home/gerald/anaconda3/envs/commonroad1/lib/python3.7/site-packages/commonroad/common/reader/file_reader_xml.py:1344: UserWarning: State at time step 40 cannot be matched!\n",
      "  warnings.warn(\"State at time step {} cannot be matched!\".format(read_time(xml_node.find('time'))))\n",
      "/home/gerald/anaconda3/envs/commonroad1/lib/python3.7/site-packages/commonroad/common/reader/file_reader_xml.py:1344: UserWarning: State at time step Interval\n",
      "start: 35\n",
      "end: 40\n",
      " cannot be matched!\n",
      "  warnings.warn(\"State at time step {} cannot be matched!\".format(read_time(xml_node.find('time'))))\n"
     ]
    },
    {
     "data": {
      "text/plain": "<Figure size 1800x720 with 1 Axes>",
      "image/png": "[encoded data removed]"
     },
     "metadata": {
      "needs_background": "light"
     },
     "output_type": "display_data"
    }
   ],
   "source": [
    "from commonroad.common.file_reader import CommonRoadFileReader\n",
    "from commonroad.visualization.mp_renderer import MPRenderer\n",
    "\n",
    "scenario, planning_problem_set = CommonRoadFileReader('ZAM_Tutorial-1_2_T-1.xml').open()\n",
    "planning_problem = list(planning_problem_set.planning_problem_dict.values())[0]\n",
    "\n",
    "# plot the scenario\n",
    "rnd = MPRenderer(figsize=(25, 10))\n",
    "scenario.draw(rnd, draw_params={'time_begin': 0})\n",
    "planning_problem.draw(rnd)\n",
    "artists = rnd.render()\n"
   ]
  },
  {
   "cell_type": "markdown",
   "metadata": {
    "pycharm": {
     "name": "#%% md\n"
    }
   },
   "source": [
    "## Create ego vehicle trajectory\n",
    "We create an exemplary trajectory for our ego vehicle. This trajectory can be computed by any motion planner.\n",
    "Here, we load a simple trajectory, which we have generated with a planner beforehand and stored as a numpy array. (see\n",
    "also **commonroad-io Tutorial 2** for more details)."
   ]
  },
  {
   "cell_type": "code",
   "execution_count": 2,
   "metadata": {
    "pycharm": {
     "name": "#%%\n"
    }
   },
   "outputs": [],
   "source": [
    "import numpy as np\n",
    "from commonroad.geometry.shape import Rectangle\n",
    "from commonroad.scenario.trajectory import Trajectory\n",
    "from commonroad.scenario.state import CustomState\n",
    "from commonroad.prediction.prediction import TrajectoryPrediction\n",
    "from commonroad.scenario.obstacle import DynamicObstacle, ObstacleType\n",
    "\n",
    "\n",
    "# load precomputed numpy trajectory and get positions and velocities\n",
    "traj = np.load('ZAM_Tutorial-1_2_T-1_ExampleTrajectory.npz')\n",
    "s_ego = traj['s_ego']\n",
    "v_ego = traj['v_ego']\n",
    "\n",
    "\n",
    "# create Ego Vehicle state list\n",
    "initial_state = planning_problem.initial_state\n",
    "state_list = [initial_state]\n",
    "orientation = initial_state.orientation\n",
    "for i in range(1, 40):\n",
    "    # add new state to state_list\n",
    "    state_list.append(CustomState(**{'position': np.array([s_ego[i],0]), 'orientation': orientation, 'time_step': i,\n",
    "                               'velocity': v_ego[i]*np.cos(orientation), 'velocity_y': v_ego[i]*np.sin(orientation)}))\n",
    "\n",
    "\n",
    "# create Ego Vehicle trajectory from state list\n",
    "ego_vehicle_trajectory = Trajectory(initial_time_step=1, state_list=state_list[1:])\n",
    "ego_vehicle_shape = Rectangle(length=4.569, width=1.844)\n",
    "ego_vehicle_prediction = TrajectoryPrediction(trajectory=ego_vehicle_trajectory, shape=ego_vehicle_shape)\n",
    "\n",
    "\n",
    "# create Ego Vehicle obstacle from trajectory\n",
    "ego_vehicle = DynamicObstacle(obstacle_id=100, obstacle_type=ObstacleType.CAR, obstacle_shape=ego_vehicle_shape,\n",
    "                              initial_state=initial_state, prediction=ego_vehicle_prediction)\n"
   ]
  },
  {
   "cell_type": "markdown",
   "metadata": {
    "pycharm": {
     "name": "#%% md\n"
    }
   },
   "source": [
    "## Collision Checking\n",
    "To check if the ego vehicle collides, we create collision objects for all obstacles and the ego vehicle. The scenario\n",
    "can directly be converted into a collision checker object, which automatically converts all obstacles to collision objects."
   ]
  },
  {
   "cell_type": "code",
   "execution_count": 3,
   "metadata": {
    "pycharm": {
     "name": "#%%\n"
    }
   },
   "outputs": [
    {
     "name": "stdout",
     "output_type": "stream",
     "text": [
      "Collision between the ego vehicle and other static/dynamic obstacles: False\n"
     ]
    }
   ],
   "source": [
    "from commonroad_dc.collision.collision_detection.pycrcc_collision_dispatch import create_collision_checker, create_collision_object\n",
    "\n",
    "# create collision checker from scenario\n",
    "cc = create_collision_checker(scenario)\n",
    "\n",
    "# create ego vehicle collision object\n",
    "ego_vehicle_co = create_collision_object(ego_vehicle)\n",
    "\n",
    "# check if ego vehicle collides\n",
    "res = cc.collide(ego_vehicle_co)\n",
    "print('Collision between the ego vehicle and other static/dynamic obstacles: %s' % res)\n"
   ]
  },
  {
   "cell_type": "markdown",
   "metadata": {
    "pycharm": {
     "name": "#%% md\n"
    }
   },
   "source": [
    "## Road-compliance\n",
    "Next, we check if our planned trajectory is road-compliant, i.e., it shall not leave the road boundaries. Our toolbox offers\n",
    "efficient functions to create road boundaries. Using the above method, we can simply check whether the ego vehicle collides\n",
    "with the road boundary."
   ]
  },
  {
   "cell_type": "code",
   "execution_count": 4,
   "metadata": {
    "pycharm": {
     "name": "#%%\n"
    }
   },
   "outputs": [
    {
     "ename": "TypeError",
     "evalue": "__init__() got an unexpected keyword argument 'position'",
     "output_type": "error",
     "traceback": [
      "\u001B[0;31m---------------------------------------------------------------------------\u001B[0m",
      "\u001B[0;31mTypeError\u001B[0m                                 Traceback (most recent call last)",
      "\u001B[0;32m<ipython-input-4-df93488583ba>\u001B[0m in \u001B[0;36m<module>\u001B[0;34m\u001B[0m\n\u001B[1;32m      2\u001B[0m \u001B[0;34m\u001B[0m\u001B[0m\n\u001B[1;32m      3\u001B[0m \u001B[0;31m# create the road boundary\u001B[0m\u001B[0;34m\u001B[0m\u001B[0;34m\u001B[0m\u001B[0;34m\u001B[0m\u001B[0m\n\u001B[0;32m----> 4\u001B[0;31m \u001B[0m_\u001B[0m\u001B[0;34m,\u001B[0m \u001B[0mroad_boundary\u001B[0m \u001B[0;34m=\u001B[0m \u001B[0mcreate_road_boundary_obstacle\u001B[0m\u001B[0;34m(\u001B[0m\u001B[0mscenario\u001B[0m\u001B[0;34m)\u001B[0m\u001B[0;34m\u001B[0m\u001B[0;34m\u001B[0m\u001B[0m\n\u001B[0m\u001B[1;32m      5\u001B[0m \u001B[0;34m\u001B[0m\u001B[0m\n\u001B[1;32m      6\u001B[0m \u001B[0;31m# add road boundary to collision checker\u001B[0m\u001B[0;34m\u001B[0m\u001B[0;34m\u001B[0m\u001B[0;34m\u001B[0m\u001B[0m\n",
      "\u001B[0;32m~/Documents/CommonRoad/cps/commonroad-drivability-checker/commonroad_dc/boundary/boundary.py\u001B[0m in \u001B[0;36mcreate_road_boundary_obstacle\u001B[0;34m(scenario, method, return_scenario_obstacle, **kwargs)\u001B[0m\n\u001B[1;32m     50\u001B[0m     \"\"\"\n\u001B[1;32m     51\u001B[0m \u001B[0;34m\u001B[0m\u001B[0m\n\u001B[0;32m---> 52\u001B[0;31m     \u001B[0mboundary\u001B[0m \u001B[0;34m=\u001B[0m \u001B[0mconstruction\u001B[0m\u001B[0;34m.\u001B[0m\u001B[0mconstruct_boundary_obstacle\u001B[0m\u001B[0;34m(\u001B[0m\u001B[0mscenario\u001B[0m\u001B[0;34m,\u001B[0m \u001B[0mmethod\u001B[0m\u001B[0;34m,\u001B[0m \u001B[0mreturn_scenario_obstacle\u001B[0m\u001B[0;34m,\u001B[0m \u001B[0mkwargs\u001B[0m\u001B[0;34m)\u001B[0m\u001B[0;34m\u001B[0m\u001B[0;34m\u001B[0m\u001B[0m\n\u001B[0m\u001B[1;32m     53\u001B[0m     \u001B[0;32mreturn\u001B[0m \u001B[0mboundary\u001B[0m\u001B[0;34m\u001B[0m\u001B[0;34m\u001B[0m\u001B[0m\n\u001B[1;32m     54\u001B[0m \u001B[0;34m\u001B[0m\u001B[0m\n",
      "\u001B[0;32m~/Documents/CommonRoad/cps/commonroad-drivability-checker/commonroad_dc/boundary/construction.py\u001B[0m in \u001B[0;36mconstruct_boundary_obstacle\u001B[0;34m(scenario, method, return_scenario_obstacle, kwargs)\u001B[0m\n\u001B[1;32m    366\u001B[0m \u001B[0;34m\u001B[0m\u001B[0m\n\u001B[1;32m    367\u001B[0m     \u001B[0;32mif\u001B[0m \u001B[0mreturn_scenario_obstacle\u001B[0m\u001B[0;34m:\u001B[0m\u001B[0;34m\u001B[0m\u001B[0;34m\u001B[0m\u001B[0m\n\u001B[0;32m--> 368\u001B[0;31m         \u001B[0mscenario_obstacle\u001B[0m \u001B[0;34m=\u001B[0m \u001B[0mpostprocess_obstacle_func_dict\u001B[0m\u001B[0;34m[\u001B[0m\u001B[0mmethod\u001B[0m\u001B[0;34m]\u001B[0m\u001B[0;34m(\u001B[0m\u001B[0mscenario\u001B[0m\u001B[0;34m,\u001B[0m \u001B[0mobstacle\u001B[0m\u001B[0;34m)\u001B[0m\u001B[0;34m\u001B[0m\u001B[0;34m\u001B[0m\u001B[0m\n\u001B[0m\u001B[1;32m    369\u001B[0m         \u001B[0;32mreturn\u001B[0m \u001B[0mscenario_obstacle\u001B[0m\u001B[0;34m,\u001B[0m \u001B[0mobstacle\u001B[0m\u001B[0;34m\u001B[0m\u001B[0;34m\u001B[0m\u001B[0m\n\u001B[1;32m    370\u001B[0m     \u001B[0;32mreturn\u001B[0m \u001B[0mobstacle\u001B[0m\u001B[0;34m\u001B[0m\u001B[0;34m\u001B[0m\u001B[0m\n",
      "\u001B[0;32m~/Documents/CommonRoad/cps/commonroad-drivability-checker/commonroad_dc/boundary/construction.py\u001B[0m in \u001B[0;36mpostprocess_create_static_obstacle_obb_rectangles\u001B[0;34m(scenario, shape_group)\u001B[0m\n\u001B[1;32m    339\u001B[0m \u001B[0;34m\u001B[0m\u001B[0m\n\u001B[1;32m    340\u001B[0m \u001B[0;32mdef\u001B[0m \u001B[0mpostprocess_create_static_obstacle_obb_rectangles\u001B[0m\u001B[0;34m(\u001B[0m\u001B[0mscenario\u001B[0m\u001B[0;34m:\u001B[0m \u001B[0mScenario\u001B[0m\u001B[0;34m,\u001B[0m \u001B[0mshape_group\u001B[0m\u001B[0;34m:\u001B[0m \u001B[0mpycrcc\u001B[0m\u001B[0;34m.\u001B[0m\u001B[0mShapeGroup\u001B[0m\u001B[0;34m)\u001B[0m\u001B[0;34m:\u001B[0m\u001B[0;34m\u001B[0m\u001B[0;34m\u001B[0m\u001B[0m\n\u001B[0;32m--> 341\u001B[0;31m     \u001B[0minitial_state\u001B[0m \u001B[0;34m=\u001B[0m \u001B[0mState\u001B[0m\u001B[0;34m(\u001B[0m\u001B[0mposition\u001B[0m\u001B[0;34m=\u001B[0m\u001B[0mnp\u001B[0m\u001B[0;34m.\u001B[0m\u001B[0marray\u001B[0m\u001B[0;34m(\u001B[0m\u001B[0;34m[\u001B[0m\u001B[0;36m0\u001B[0m\u001B[0;34m,\u001B[0m \u001B[0;36m0\u001B[0m\u001B[0;34m]\u001B[0m\u001B[0;34m)\u001B[0m\u001B[0;34m,\u001B[0m \u001B[0morientation\u001B[0m\u001B[0;34m=\u001B[0m\u001B[0;36m0.0\u001B[0m\u001B[0;34m,\u001B[0m \u001B[0mtime_step\u001B[0m\u001B[0;34m=\u001B[0m\u001B[0;36m0\u001B[0m\u001B[0;34m)\u001B[0m\u001B[0;34m\u001B[0m\u001B[0;34m\u001B[0m\u001B[0m\n\u001B[0m\u001B[1;32m    342\u001B[0m     \u001B[0mroad_boundary_shape_list\u001B[0m \u001B[0;34m=\u001B[0m \u001B[0mlist\u001B[0m\u001B[0;34m(\u001B[0m\u001B[0;34m)\u001B[0m\u001B[0;34m\u001B[0m\u001B[0;34m\u001B[0m\u001B[0m\n\u001B[1;32m    343\u001B[0m     \u001B[0;32mfor\u001B[0m \u001B[0mr\u001B[0m \u001B[0;32min\u001B[0m \u001B[0mshape_group\u001B[0m\u001B[0;34m.\u001B[0m\u001B[0munpack\u001B[0m\u001B[0;34m(\u001B[0m\u001B[0;34m)\u001B[0m\u001B[0;34m:\u001B[0m\u001B[0;34m\u001B[0m\u001B[0;34m\u001B[0m\u001B[0m\n",
      "\u001B[0;31mTypeError\u001B[0m: __init__() got an unexpected keyword argument 'position'"
     ]
    }
   ],
   "source": [
    "from commonroad_dc.boundary.boundary import create_road_boundary_obstacle\n",
    "\n",
    "# create the road boundary\n",
    "_, road_boundary = create_road_boundary_obstacle(scenario)\n",
    "\n",
    "# add road boundary to collision checker\n",
    "cc.add_collision_object(road_boundary)\n",
    "\n",
    "# Again: check if ego vehicle collides\n",
    "res = cc.collide(ego_vehicle_co)\n",
    "print('Collision between the ego vehicle and the road boundary: %s' % res)\n",
    "\n"
   ]
  },
  {
   "cell_type": "markdown",
   "metadata": {
    "pycharm": {
     "name": "#%% md\n"
    }
   },
   "source": [
    "## Kinematic feasibility\n",
    "Finally, we check whether the planned trajectory is kinematically feasible, i.e., if the planned motion can be executed\n",
    "by a specified vehicle model. Our feasibility checker first reconstructs\n",
    "the input vector for the planned trajectory and then reconstructs the trajectory via forward simulation of the\n",
    "given vehicle model. If the error between original and reconstructed trajectory lie within a specified error margin,\n",
    "the trajectory is feasible."
   ]
  },
  {
   "cell_type": "code",
   "execution_count": null,
   "metadata": {
    "pycharm": {
     "name": "#%%\n"
    }
   },
   "outputs": [],
   "source": [
    "import commonroad_dc.feasibility.feasibility_checker as feasibility_checker\n",
    "from commonroad_dc.feasibility.vehicle_dynamics import VehicleDynamics, VehicleType\n",
    "\n",
    "# set time step as scenario time step\n",
    "dt = scenario.dt\n",
    "\n",
    "# choose vehicle model (here kinematic single-track model)\n",
    "vehicle_dynamics = VehicleDynamics.KS(VehicleType.BMW_320i)\n",
    "\n",
    "# check feasibility of planned trajectory for the given vehicle model\n",
    "feasible, reconstructed_inputs = feasibility_checker.trajectory_feasibility(ego_vehicle_trajectory, vehicle_dynamics, dt)\n",
    "print('The planned trajectory is feasible: %s' % feasible)\n"
   ]
  },
  {
   "cell_type": "markdown",
   "metadata": {
    "pycharm": {
     "name": "#%% md\n"
    }
   },
   "source": [
    "## Visualization of planned motion\n",
    "To validate our checking results, we visualize the scenario. We can see\n",
    "that the ego vehicle (green) does not collide with the static (red) and dynamic (blue) obstacles and does not leave\n",
    "the road network."
   ]
  },
  {
   "cell_type": "code",
   "execution_count": null,
   "metadata": {
    "pycharm": {
     "name": "#%%\n"
    }
   },
   "outputs": [],
   "source": [
    "import matplotlib.pyplot as plt\n",
    "# plot the scenario and the ego vehicle for each time step\n",
    "for i in range(0, 40):\n",
    "    plt.figure(figsize=(25, 10))\n",
    "    rnd = MPRenderer()\n",
    "    scenario.draw(rnd, draw_params={'time_begin': i})\n",
    "    ego_vehicle.draw(rnd, draw_params={'time_begin': i, 'dynamic_obstacle': {\n",
    "        'vehicle_shape': {'occupancy': {'shape': {'rectangle': {\n",
    "            'facecolor': 'g'}}}}}})\n",
    "    planning_problem_set.draw(rnd)\n",
    "    rnd.render()"
   ]
  },
  {
   "cell_type": "code",
   "execution_count": null,
   "outputs": [],
   "source": [],
   "metadata": {
    "collapsed": false,
    "pycharm": {
     "name": "#%%\n"
    }
   }
  },
  {
   "cell_type": "code",
   "execution_count": null,
   "metadata": {},
   "outputs": [],
   "source": []
  }
 ],
 "metadata": {
  "kernelspec": {
   "display_name": "Python 3 (ipykernel)",
   "language": "python",
   "name": "python3"
  },
  "language_info": {
   "codemirror_mode": {
    "name": "ipython",
    "version": 3
   },
   "file_extension": ".py",
   "mimetype": "text/x-python",
   "name": "python",
   "nbconvert_exporter": "python",
   "pygments_lexer": "ipython3",
   "version": "3.7.10"
  }
 },
 "nbformat": 4,
 "nbformat_minor": 1
}