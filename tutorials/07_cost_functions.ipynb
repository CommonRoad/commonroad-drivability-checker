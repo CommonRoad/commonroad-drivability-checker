{
 "cells": [
  {
   "cell_type": "markdown",
   "metadata": {
    "collapsed": true,
    "pycharm": {
     "name": "#%% md\n"
    }
   },
   "source": [
    "## Tutorial 07: Evaluate solution using cost functions\n",
    "\n",
    "With our implementation of the cost functions from the CommonRoad benchmark, solutions of scenarios can be assessed\n",
    "locally before submitting them. More details about the cost functions can be found [here](https://gitlab.lrz.de/tum-cps/commonroad-cost-functions/-/blob/master/costFunctions_commonRoad.pdf)."
   ]
  },
  {
   "cell_type": "code",
   "execution_count": 1,
   "metadata": {
    "pycharm": {
     "name": "#%%\n"
    }
   },
   "outputs": [],
   "source": [
    "import os\n",
    "from commonroad.common.file_reader import CommonRoadFileReader\n",
    "from commonroad.common.solution import CommonRoadSolutionReader\n",
    "from commonroad_dc.costs.evaluation import CostFunctionEvaluator\n",
    "\n",
    "path = os.path.abspath(\"\")"
   ]
  },
  {
   "cell_type": "markdown",
   "metadata": {
    "pycharm": {
     "name": "#%% md\n"
    }
   },
   "source": [
    "The solution object can either be read from a Commonroad solution xml file ([this tutorial](https://commonroad.in.tum.de/tutorials/optimization-solution) shows how to create one), or can be created on the fly from a `Trajectory`.\n",
    "In this example we use an xml file:"
   ]
  },
  {
   "cell_type": "code",
   "execution_count": 2,
   "metadata": {
    "pycharm": {
     "name": "#%%\n"
    }
   },
   "outputs": [
    {
     "name": "stdout",
     "output_type": "stream",
     "text": [
      "Total costs for benchmark KS2:SM1:DEU_Guetersloh-36_1_T-1:2020a:\n",
      "1402.0266741781913\n",
      "Partial costs for solution of planning problem 1:\n",
      "A:\t1386.666666666668\n",
      "SA:\t2.6351885203703707\n",
      "SR:\t11.153123703703699\n",
      "L:\t0.31943261087593494\n",
      "V:\t0.0\n",
      "O:\t1.2522626765733225\n"
     ]
    }
   ],
   "source": [
    "solution = CommonRoadSolutionReader.open(os.path.join(path, \"example_solution_tutorial_cost_functions.xml\"))\n",
    "scenario, planning_problem_set = CommonRoadFileReader(os.path.join(path, \"DEU_Guetersloh-36_1_T-1.xml\")).open()\n",
    "\n",
    "ce = CostFunctionEvaluator.init_from_solution(solution)\n",
    "cost_result = ce.evaluate_solution(scenario, planning_problem_set, solution)\n",
    "\n",
    "print(cost_result)"
   ]
  }
 ],
 "metadata": {
  "kernelspec": {
   "display_name": "Python 3",
   "language": "python",
   "name": "python3"
  },
  "language_info": {
   "codemirror_mode": {
    "name": "ipython",
    "version": 3
   },
   "file_extension": ".py",
   "mimetype": "text/x-python",
   "name": "python",
   "nbconvert_exporter": "python",
   "pygments_lexer": "ipython3",
   "version": "3.8.8"
  }
 },
 "nbformat": 4,
 "nbformat_minor": 1
}