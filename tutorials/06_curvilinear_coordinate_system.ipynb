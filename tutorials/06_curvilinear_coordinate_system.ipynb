{
 "cells": [
  {
   "cell_type": "markdown",
   "metadata": {
    "collapsed": true,
    "pycharm": {
     "name": "#%% md\n"
    }
   },
   "source": [
    "# Tutorial 06: CommonRoad Curvilinear Coordinatesystem\n",
    "\n",
    "This tutorial shows you how to create a **curvilinear coordinate system** using CommonRoad scenarios.\n",
    "The curvilinear coordinate system is aligned with a given reference path. Any point (x,y) in the cartesian frame is described by the coordinates (s,d) in the curvilinear frame,\n",
    "where s is the arc length along the reference path and d the lateral deviation to the reference path.\n",
    "\n",
    "Before starting this tutorial, make sure that you have gone through the tutorial for CommonRoad-IO and have installed all necessary dependencies according to the installation manual.\n",
    "\n",
    "This tutorial further requires the [commonroad-route-planner](https://gitlab.lrz.de/tum-cps/commonroad-route-planner): Please make sure you have installed the code according to the installation description\n",
    "in the repository."
   ]
  },
  {
   "cell_type": "markdown",
   "metadata": {},
   "source": [
    "## 1. Preparation\n",
    "We begin by importing all required modules for this tutorial."
   ]
  },
  {
   "cell_type": "code",
   "execution_count": 1,
   "metadata": {
    "pycharm": {
     "name": "#%%\n"
    }
   },
   "outputs": [
    {
     "ename": "ModuleNotFoundError",
     "evalue": "No module named 'commonroad_route_planner.utils_visualization'",
     "output_type": "error",
     "traceback": [
      "\u001b[0;31m---------------------------------------------------------------------------\u001b[0m",
      "\u001b[0;31mModuleNotFoundError\u001b[0m                       Traceback (most recent call last)",
      "\u001b[0;32m<ipython-input-1-a5777eede681>\u001b[0m in \u001b[0;36m<module>\u001b[0;34m\u001b[0m\n\u001b[1;32m     16\u001b[0m \u001b[0;31m# commonroad-route-planner imports\u001b[0m\u001b[0;34m\u001b[0m\u001b[0;34m\u001b[0m\u001b[0;34m\u001b[0m\u001b[0m\n\u001b[1;32m     17\u001b[0m \u001b[0;32mfrom\u001b[0m \u001b[0mcommonroad_route_planner\u001b[0m\u001b[0;34m.\u001b[0m\u001b[0mroute_planner\u001b[0m \u001b[0;32mimport\u001b[0m \u001b[0mRoutePlanner\u001b[0m\u001b[0;34m\u001b[0m\u001b[0;34m\u001b[0m\u001b[0m\n\u001b[0;32m---> 18\u001b[0;31m \u001b[0;32mfrom\u001b[0m \u001b[0mcommonroad_route_planner\u001b[0m\u001b[0;34m.\u001b[0m\u001b[0mutils_visualization\u001b[0m \u001b[0;32mimport\u001b[0m \u001b[0mvisualize_route\u001b[0m\u001b[0;34m\u001b[0m\u001b[0;34m\u001b[0m\u001b[0m\n\u001b[0m",
      "\u001b[0;31mModuleNotFoundError\u001b[0m: No module named 'commonroad_route_planner.utils_visualization'"
     ]
    }
   ],
   "source": [
    "%matplotlib inline\n",
    "import os\n",
    "\n",
    "import numpy as np\n",
    "import matplotlib.pyplot as plt\n",
    "\n",
    "# commonroad-io imports\n",
    "from commonroad.common.file_reader import CommonRoadFileReader\n",
    "from commonroad.visualization.mp_renderer import MPRenderer\n",
    "from commonroad.scenario.lanelet import Lanelet\n",
    "\n",
    "# commonroad-dc imports\n",
    "from commonroad_dc.pycrccosy import CurvilinearCoordinateSystem\n",
    "from commonroad_dc.geometry.util import chaikins_corner_cutting, resample_polyline\n",
    "\n",
    "# commonroad-route-planner imports\n",
    "from commonroad_route_planner.route_planner import RoutePlanner\n",
    "from commonroad_route_planner.utils_visualization import visualize_route"
   ]
  },
  {
   "cell_type": "markdown",
   "metadata": {
    "pycharm": {
     "name": "#%% md\n"
    }
   },
   "source": [
    "## 2. Load CommonRoad scenario\n",
    "We load the CommonRoad scenario for which we want to create a curvilinear coordinate system."
   ]
  },
  {
   "cell_type": "code",
   "execution_count": 2,
   "metadata": {
    "pycharm": {
     "name": "#%%\n"
    }
   },
   "outputs": [],
   "source": [
    "# load the CommonRoad scenario, note that you might have to modify the path to the CommonRoad scenario!\n",
    "file_path = os.path.join(os.getcwd(), 'USA_US101-3_1_T-1.xml')\n",
    "\n",
    "scenario, planning_problem_set = CommonRoadFileReader(file_path).open()\n",
    "# retrieve the first planning problem in the problem set\n",
    "planning_problem = list(planning_problem_set.planning_problem_dict.values())[0]"
   ]
  },
  {
   "cell_type": "markdown",
   "metadata": {},
   "source": [
    "## 3. Create a reference path for the coordinate system\n",
    "We need to generate a reference path to construct the curvilinear coordinate system. A reference path can be any polyline, e.g., the centerline of a lanelet or a route obtained with a route planner.\n",
    "\n",
    "In this tutorial we generate a reference path by creating a route from the initial position to the goal region using the commonroad-route-planner.\n",
    "For more details regarding the usage of the route planner, please refer to the [route-planner tutorial](https://gitlab.lrz.de/tum-cps/commonroad-route-planner/-/blob/main/tutorial/tutorial_route_planner.ipynb)."
   ]
  },
  {
   "cell_type": "code",
   "execution_count": 3,
   "metadata": {
    "pycharm": {
     "name": "#%%\n"
    }
   },
   "outputs": [
    {
     "name": "stdout",
     "output_type": "stream",
     "text": [
      "Number of route candidates: 1\n"
     ]
    }
   ],
   "source": [
    "# instantiate a route planner with the scenario and the planning problem\n",
    "route_planner = RoutePlanner(scenario, planning_problem, backend=RoutePlanner.Backend.NETWORKX_REVERSED)\n",
    "\n",
    "# plan routes, and save the routes in a route candidate holder\n",
    "candidate_holder = route_planner.plan_routes()\n",
    "\n",
    "# option 1: retrieve all routes\n",
    "list_routes, num_route_candidates = candidate_holder.retrieve_all_routes()\n",
    "print(f\"Number of route candidates: {num_route_candidates}\")\n",
    "# here we retrieve the first route in the list, this is equivalent to: route = list_routes[0]\n",
    "route = candidate_holder.retrieve_first_route()\n",
    "ref_path = route.reference_path"
   ]
  },
  {
   "cell_type": "markdown",
   "metadata": {
    "pycharm": {
     "name": "#%% md\n"
    }
   },
   "source": [
    "We visualize the scenario and the reference path of the generated route."
   ]
  },
  {
   "cell_type": "code",
   "execution_count": 4,
   "metadata": {
    "pycharm": {
     "name": "#%%\n"
    }
   },
   "outputs": [
    {
     "ename": "AttributeError",
     "evalue": "'NoneType' object has no attribute 'final_time_step'",
     "output_type": "error",
     "traceback": [
      "\u001b[0;31m---------------------------------------------------------------------------\u001b[0m",
      "\u001b[0;31mAttributeError\u001b[0m                            Traceback (most recent call last)",
      "\u001b[0;32m<ipython-input-4-5c88de558303>\u001b[0m in \u001b[0;36m<module>\u001b[0;34m\u001b[0m\n\u001b[1;32m      2\u001b[0m \u001b[0mrnd\u001b[0m \u001b[0;34m=\u001b[0m \u001b[0mMPRenderer\u001b[0m\u001b[0;34m(\u001b[0m\u001b[0mfigsize\u001b[0m\u001b[0;34m=\u001b[0m\u001b[0;34m(\u001b[0m\u001b[0;36m25\u001b[0m\u001b[0;34m,\u001b[0m \u001b[0;36m10\u001b[0m\u001b[0;34m)\u001b[0m\u001b[0;34m)\u001b[0m\u001b[0;34m\u001b[0m\u001b[0;34m\u001b[0m\u001b[0m\n\u001b[1;32m      3\u001b[0m scenario.draw(rnd, draw_params={'time_begin': 30, 'scenario': {\n\u001b[0;32m----> 4\u001b[0;31m         'lanelet_network': {'lanelet': {'show_label': False,}}}})\n\u001b[0m\u001b[1;32m      5\u001b[0m \u001b[0mplanning_problem_set\u001b[0m\u001b[0;34m.\u001b[0m\u001b[0mdraw\u001b[0m\u001b[0;34m(\u001b[0m\u001b[0mrnd\u001b[0m\u001b[0;34m)\u001b[0m\u001b[0;34m\u001b[0m\u001b[0;34m\u001b[0m\u001b[0m\n\u001b[1;32m      6\u001b[0m \u001b[0mrnd\u001b[0m\u001b[0;34m.\u001b[0m\u001b[0mrender\u001b[0m\u001b[0;34m(\u001b[0m\u001b[0;34m)\u001b[0m\u001b[0;34m\u001b[0m\u001b[0;34m\u001b[0m\u001b[0m\n",
      "\u001b[0;32m~/miniconda2/envs/driv2/lib/python3.7/site-packages/commonroad/scenario/scenario.py\u001b[0m in \u001b[0;36mdraw\u001b[0;34m(self, renderer, draw_params, call_stack)\u001b[0m\n\u001b[1;32m    979\u001b[0m              \u001b[0mdraw_params\u001b[0m\u001b[0;34m:\u001b[0m \u001b[0mUnion\u001b[0m\u001b[0;34m[\u001b[0m\u001b[0mParamServer\u001b[0m\u001b[0;34m,\u001b[0m \u001b[0mdict\u001b[0m\u001b[0;34m,\u001b[0m \u001b[0;32mNone\u001b[0m\u001b[0;34m]\u001b[0m \u001b[0;34m=\u001b[0m \u001b[0;32mNone\u001b[0m\u001b[0;34m,\u001b[0m\u001b[0;34m\u001b[0m\u001b[0;34m\u001b[0m\u001b[0m\n\u001b[1;32m    980\u001b[0m              call_stack: Optional[Tuple[str, ...]] = tuple()):\n\u001b[0;32m--> 981\u001b[0;31m         \u001b[0mrenderer\u001b[0m\u001b[0;34m.\u001b[0m\u001b[0mdraw_scenario\u001b[0m\u001b[0;34m(\u001b[0m\u001b[0mself\u001b[0m\u001b[0;34m,\u001b[0m \u001b[0mdraw_params\u001b[0m\u001b[0;34m,\u001b[0m \u001b[0mcall_stack\u001b[0m\u001b[0;34m)\u001b[0m\u001b[0;34m\u001b[0m\u001b[0;34m\u001b[0m\u001b[0m\n\u001b[0m",
      "\u001b[0;32m~/miniconda2/envs/driv2/lib/python3.7/site-packages/commonroad/visualization/mp_renderer.py\u001b[0m in \u001b[0;36mdraw_scenario\u001b[0;34m(self, obj, draw_params, call_stack)\u001b[0m\n\u001b[1;32m    396\u001b[0m         \u001b[0;31m# Draw all objects\u001b[0m\u001b[0;34m\u001b[0m\u001b[0;34m\u001b[0m\u001b[0;34m\u001b[0m\u001b[0m\n\u001b[1;32m    397\u001b[0m         \u001b[0;32mfor\u001b[0m \u001b[0mo\u001b[0m \u001b[0;32min\u001b[0m \u001b[0mdyn_obs\u001b[0m\u001b[0;34m:\u001b[0m\u001b[0;34m\u001b[0m\u001b[0;34m\u001b[0m\u001b[0m\n\u001b[0;32m--> 398\u001b[0;31m             \u001b[0mo\u001b[0m\u001b[0;34m.\u001b[0m\u001b[0mdraw\u001b[0m\u001b[0;34m(\u001b[0m\u001b[0mself\u001b[0m\u001b[0;34m,\u001b[0m \u001b[0mdraw_params\u001b[0m\u001b[0;34m,\u001b[0m \u001b[0mcall_stack\u001b[0m\u001b[0;34m)\u001b[0m\u001b[0;34m\u001b[0m\u001b[0;34m\u001b[0m\u001b[0m\n\u001b[0m\u001b[1;32m    399\u001b[0m         \u001b[0;32mfor\u001b[0m \u001b[0mo\u001b[0m \u001b[0;32min\u001b[0m \u001b[0mstatic_obs\u001b[0m\u001b[0;34m:\u001b[0m\u001b[0;34m\u001b[0m\u001b[0;34m\u001b[0m\u001b[0m\n\u001b[1;32m    400\u001b[0m             \u001b[0mo\u001b[0m\u001b[0;34m.\u001b[0m\u001b[0mdraw\u001b[0m\u001b[0;34m(\u001b[0m\u001b[0mself\u001b[0m\u001b[0;34m,\u001b[0m \u001b[0mdraw_params\u001b[0m\u001b[0;34m,\u001b[0m \u001b[0mcall_stack\u001b[0m\u001b[0;34m)\u001b[0m\u001b[0;34m\u001b[0m\u001b[0;34m\u001b[0m\u001b[0m\n",
      "\u001b[0;32m~/miniconda2/envs/driv2/lib/python3.7/site-packages/commonroad/scenario/obstacle.py\u001b[0m in \u001b[0;36mdraw\u001b[0;34m(self, renderer, draw_params, call_stack)\u001b[0m\n\u001b[1;32m    457\u001b[0m              \u001b[0mdraw_params\u001b[0m\u001b[0;34m:\u001b[0m \u001b[0mUnion\u001b[0m\u001b[0;34m[\u001b[0m\u001b[0mParamServer\u001b[0m\u001b[0;34m,\u001b[0m \u001b[0mdict\u001b[0m\u001b[0;34m,\u001b[0m \u001b[0;32mNone\u001b[0m\u001b[0;34m]\u001b[0m \u001b[0;34m=\u001b[0m \u001b[0;32mNone\u001b[0m\u001b[0;34m,\u001b[0m\u001b[0;34m\u001b[0m\u001b[0;34m\u001b[0m\u001b[0m\n\u001b[1;32m    458\u001b[0m              call_stack: Optional[Tuple[str, ...]] = tuple()):\n\u001b[0;32m--> 459\u001b[0;31m         \u001b[0mrenderer\u001b[0m\u001b[0;34m.\u001b[0m\u001b[0mdraw_dynamic_obstacle\u001b[0m\u001b[0;34m(\u001b[0m\u001b[0mself\u001b[0m\u001b[0;34m,\u001b[0m \u001b[0mdraw_params\u001b[0m\u001b[0;34m,\u001b[0m \u001b[0mcall_stack\u001b[0m\u001b[0;34m)\u001b[0m\u001b[0;34m\u001b[0m\u001b[0;34m\u001b[0m\u001b[0m\n\u001b[0m\u001b[1;32m    460\u001b[0m \u001b[0;34m\u001b[0m\u001b[0m\n\u001b[1;32m    461\u001b[0m \u001b[0;34m\u001b[0m\u001b[0m\n",
      "\u001b[0;32m~/miniconda2/envs/driv2/lib/python3.7/site-packages/commonroad/visualization/mp_renderer.py\u001b[0m in \u001b[0;36mdraw_dynamic_obstacle\u001b[0;34m(self, obj, draw_params, call_stack)\u001b[0m\n\u001b[1;32m    456\u001b[0m         \u001b[0mdraw_history\u001b[0m \u001b[0;34m=\u001b[0m \u001b[0mdraw_params\u001b[0m\u001b[0;34m.\u001b[0m\u001b[0mby_callstack\u001b[0m\u001b[0;34m(\u001b[0m\u001b[0mcall_stack\u001b[0m\u001b[0;34m,\u001b[0m \u001b[0;34m(\u001b[0m\u001b[0;34m'history'\u001b[0m\u001b[0;34m,\u001b[0m \u001b[0;34m'draw_history'\u001b[0m\u001b[0;34m)\u001b[0m\u001b[0;34m)\u001b[0m\u001b[0;34m\u001b[0m\u001b[0;34m\u001b[0m\u001b[0m\n\u001b[1;32m    457\u001b[0m \u001b[0;34m\u001b[0m\u001b[0m\n\u001b[0;32m--> 458\u001b[0;31m         \u001b[0;32mif\u001b[0m \u001b[0mobj\u001b[0m\u001b[0;34m.\u001b[0m\u001b[0mprediction\u001b[0m\u001b[0;34m.\u001b[0m\u001b[0mfinal_time_step\u001b[0m \u001b[0;34m<\u001b[0m \u001b[0mtime_begin\u001b[0m \u001b[0;32mor\u001b[0m \u001b[0mobj\u001b[0m\u001b[0;34m.\u001b[0m\u001b[0minitial_state\u001b[0m\u001b[0;34m.\u001b[0m\u001b[0mtime_step\u001b[0m \u001b[0;34m>\u001b[0m \u001b[0mtime_end\u001b[0m\u001b[0;34m:\u001b[0m\u001b[0;34m\u001b[0m\u001b[0;34m\u001b[0m\u001b[0m\n\u001b[0m\u001b[1;32m    459\u001b[0m             \u001b[0;32mreturn\u001b[0m\u001b[0;34m\u001b[0m\u001b[0;34m\u001b[0m\u001b[0m\n\u001b[1;32m    460\u001b[0m \u001b[0;34m\u001b[0m\u001b[0m\n",
      "\u001b[0;31mAttributeError\u001b[0m: 'NoneType' object has no attribute 'final_time_step'"
     ]
    },
    {
     "data": {
      "image/png": "[encoded data removed]",
      "text/plain": [
       "<Figure size 1800x720 with 1 Axes>"
      ]
     },
     "metadata": {
      "needs_background": "light"
     },
     "output_type": "display_data"
    }
   ],
   "source": [
    "# draw scenario\n",
    "rnd = MPRenderer(figsize=(25, 10))\n",
    "scenario.draw(rnd, draw_params={'time_begin': 30, 'scenario': {\n",
    "        'lanelet_network': {'lanelet': {'show_label': False,}}}})\n",
    "planning_problem_set.draw(rnd)\n",
    "rnd.render()\n",
    "\n",
    "# draw reference path\n",
    "plt.plot(ref_path[:, 0], ref_path[:, 1], zorder=100, linewidth=2, color='green')"
   ]
  },
  {
   "cell_type": "markdown",
   "metadata": {},
   "source": [
    "## 4. Create the curvilinear coordinate system\n",
    "\n",
    "We preprocess the reference path before creating the coordinate system: We smoothen the polyline using Chaikins corner cutting algorithm\n",
    "followed by resampling of the polyline every 2m. Then, we are able to create the curvilinear coordinate system based on\n",
    "the preprocessed reference path."
   ]
  },
  {
   "cell_type": "code",
   "execution_count": 5,
   "metadata": {
    "pycharm": {
     "name": "#%%\n"
    }
   },
   "outputs": [],
   "source": [
    "# we apply chaikins corner cutting 10 times to smoothen the reference path\n",
    "for i in range(0, 10):\n",
    "    ref_path = chaikins_corner_cutting(ref_path)\n",
    "ref_path = resample_polyline(ref_path, 2.0)\n",
    "\n",
    "# create curvilinear CoSy\n",
    "curvilinear_cosy = CurvilinearCoordinateSystem(ref_path, 25.0, 0.1)"
   ]
  },
  {
   "cell_type": "markdown",
   "metadata": {},
   "source": [
    "## 5. Project position onto curvilinear frame\n",
    "\n",
    "Now, we can convert coordinates from the Cartesian frame to the curvilinear coordinate system and vice versa."
   ]
  },
  {
   "cell_type": "code",
   "execution_count": 6,
   "metadata": {
    "pycharm": {
     "name": "#%%\n"
    }
   },
   "outputs": [
    {
     "name": "stdout",
     "output_type": "stream",
     "text": [
      "Converted p_cartesian in curvilinear coordinates: [61.39408775 -0.15876151]\n",
      "Back-converted p_curvilinear in cartesian coordinates: [ 4.05403267e-10 -3.57088137e-10]\n"
     ]
    }
   ],
   "source": [
    "# original cartesian point\n",
    "p_cartesian = np.array([0, 0])\n",
    "\n",
    "# convert to curvilinear coordinates\n",
    "p_curvilinear = curvilinear_cosy.convert_to_curvilinear_coords(p_cartesian[0], p_cartesian[1])\n",
    "print('Converted p_cartesian in curvilinear coordinates: {}'.format(p_curvilinear))\n",
    "\n",
    "# back-convert to cartesian coordinates\n",
    "p_cartesian = curvilinear_cosy.convert_to_cartesian_coords(p_curvilinear[0], p_curvilinear[1])\n",
    "print('Back-converted p_curvilinear in cartesian coordinates: {}'.format(p_cartesian))\n"
   ]
  },
  {
   "cell_type": "markdown",
   "metadata": {
    "pycharm": {
     "name": "#%% md\n"
    }
   },
   "source": [
    "Below, we visualize the unique projection domain of the curvilinear coordinate system as well as the projection of a\n",
    "point onto the reference path. The projection domain describes the area around the reference path, in which any point can uniquely be converted from the cartesian frame to the curvilinear frame and vice versa.\n",
    "\n",
    "The function `project_and_plot` projects a given cartesian position onto the curvilinear\n",
    "frame and visualizes the projection."
   ]
  },
  {
   "cell_type": "code",
   "execution_count": 7,
   "metadata": {
    "pycharm": {
     "name": "#%%\n"
    }
   },
   "outputs": [],
   "source": [
    "def project_and_plot(ccosy, position):\n",
    "    print(f\"Orginal position: {position}\")\n",
    "\n",
    "    p_curvilinear = ccosy.convert_to_curvilinear_coords(position[0], position[1])\n",
    "    print(f\"Converted curvilinear position: {p_curvilinear}\")\n",
    "\n",
    "    p_cartesian = ccosy.convert_to_cartesian_coords(p_curvilinear[0], p_curvilinear[1])\n",
    "    print(f\"Back-converted cartesian position: {p_cartesian}\")\n",
    "\n",
    "    projected_point = ccosy.convert_to_cartesian_coords(p_curvilinear[0], 0)\n",
    "    print(f\"Projected point on the reference path: {projected_point}\")\n",
    "\n",
    "    # visualize\n",
    "    rnd = MPRenderer(figsize=(25, 10))\n",
    "    # draw scenario\n",
    "    scenario.draw(rnd, draw_params={'time_begin': 0, 'scenario': {\n",
    "            'lanelet_network': {'lanelet': {'show_label': False, 'draw_line_markings':False}}},\n",
    "            'dynamic_obstacle':{'trajectory':{'draw_trajectory':False},\n",
    "                                'draw_shape': False}})\n",
    "    planning_problem_set.draw(rnd)\n",
    "    rnd.render()\n",
    "    # draw reference path\n",
    "    rp = np.asarray(ccosy.reference_path())\n",
    "    plt.plot(rp[:, 0], rp[:, 1], zorder=100, marker='.', color='green')\n",
    "\n",
    "    # draw projection of point\n",
    "    plt.plot([position[0], projected_point[0]], [position[1], projected_point[1]], zorder=100, linewidth=2, marker='x',\n",
    "             markersize=9, color='red')\n",
    "\n",
    "    # draw projection domain\n",
    "    proj_domain_border = np.asarray(ccosy.projection_domain())\n",
    "    plt.plot(proj_domain_border[:, 0], proj_domain_border[:, 1], zorder=100, color='orange')"
   ]
  },
  {
   "cell_type": "markdown",
   "metadata": {
    "pycharm": {
     "name": "#%% md\n"
    }
   },
   "source": [
    "We can now project any given cartesian point. The projection of the cartesian point is shown in red and the projection\n",
    "domain is shown in orange."
   ]
  },
  {
   "cell_type": "code",
   "execution_count": 8,
   "metadata": {
    "pycharm": {
     "name": "#%%\n"
    }
   },
   "outputs": [
    {
     "name": "stdout",
     "output_type": "stream",
     "text": [
      "Orginal position: [ 10 -25]\n",
      "Converted curvilinear position: [ 88.32656418 -10.81315382]\n",
      "Back-converted cartesian position: [ 10. -25.]\n",
      "Projected point on the reference path: [ 18.94456113 -18.92388926]\n"
     ]
    },
    {
     "ename": "AttributeError",
     "evalue": "'NoneType' object has no attribute 'final_time_step'",
     "output_type": "error",
     "traceback": [
      "\u001b[0;31m---------------------------------------------------------------------------\u001b[0m",
      "\u001b[0;31mAttributeError\u001b[0m                            Traceback (most recent call last)",
      "\u001b[0;32m<ipython-input-8-3c192dfc0efe>\u001b[0m in \u001b[0;36m<module>\u001b[0;34m\u001b[0m\n\u001b[1;32m      1\u001b[0m \u001b[0mcartesian_point\u001b[0m \u001b[0;34m=\u001b[0m \u001b[0mnp\u001b[0m\u001b[0;34m.\u001b[0m\u001b[0marray\u001b[0m\u001b[0;34m(\u001b[0m\u001b[0;34m[\u001b[0m\u001b[0;36m10\u001b[0m\u001b[0;34m,\u001b[0m \u001b[0;34m-\u001b[0m\u001b[0;36m25\u001b[0m\u001b[0;34m]\u001b[0m\u001b[0;34m)\u001b[0m\u001b[0;34m\u001b[0m\u001b[0;34m\u001b[0m\u001b[0m\n\u001b[0;32m----> 2\u001b[0;31m \u001b[0mproject_and_plot\u001b[0m\u001b[0;34m(\u001b[0m\u001b[0mcurvilinear_cosy\u001b[0m\u001b[0;34m,\u001b[0m \u001b[0mcartesian_point\u001b[0m\u001b[0;34m)\u001b[0m\u001b[0;34m\u001b[0m\u001b[0;34m\u001b[0m\u001b[0m\n\u001b[0m",
      "\u001b[0;32m<ipython-input-7-eba9f6fe4ebf>\u001b[0m in \u001b[0;36mproject_and_plot\u001b[0;34m(ccosy, position)\u001b[0m\n\u001b[1;32m     17\u001b[0m             'lanelet_network': {'lanelet': {'show_label': False, 'draw_line_markings':False}}},\n\u001b[1;32m     18\u001b[0m             'dynamic_obstacle':{'trajectory':{'draw_trajectory':False},\n\u001b[0;32m---> 19\u001b[0;31m                                 'draw_shape': False}})\n\u001b[0m\u001b[1;32m     20\u001b[0m     \u001b[0mplanning_problem_set\u001b[0m\u001b[0;34m.\u001b[0m\u001b[0mdraw\u001b[0m\u001b[0;34m(\u001b[0m\u001b[0mrnd\u001b[0m\u001b[0;34m)\u001b[0m\u001b[0;34m\u001b[0m\u001b[0;34m\u001b[0m\u001b[0m\n\u001b[1;32m     21\u001b[0m     \u001b[0mrnd\u001b[0m\u001b[0;34m.\u001b[0m\u001b[0mrender\u001b[0m\u001b[0;34m(\u001b[0m\u001b[0;34m)\u001b[0m\u001b[0;34m\u001b[0m\u001b[0;34m\u001b[0m\u001b[0m\n",
      "\u001b[0;32m~/miniconda2/envs/driv2/lib/python3.7/site-packages/commonroad/scenario/scenario.py\u001b[0m in \u001b[0;36mdraw\u001b[0;34m(self, renderer, draw_params, call_stack)\u001b[0m\n\u001b[1;32m    979\u001b[0m              \u001b[0mdraw_params\u001b[0m\u001b[0;34m:\u001b[0m \u001b[0mUnion\u001b[0m\u001b[0;34m[\u001b[0m\u001b[0mParamServer\u001b[0m\u001b[0;34m,\u001b[0m \u001b[0mdict\u001b[0m\u001b[0;34m,\u001b[0m \u001b[0;32mNone\u001b[0m\u001b[0;34m]\u001b[0m \u001b[0;34m=\u001b[0m \u001b[0;32mNone\u001b[0m\u001b[0;34m,\u001b[0m\u001b[0;34m\u001b[0m\u001b[0;34m\u001b[0m\u001b[0m\n\u001b[1;32m    980\u001b[0m              call_stack: Optional[Tuple[str, ...]] = tuple()):\n\u001b[0;32m--> 981\u001b[0;31m         \u001b[0mrenderer\u001b[0m\u001b[0;34m.\u001b[0m\u001b[0mdraw_scenario\u001b[0m\u001b[0;34m(\u001b[0m\u001b[0mself\u001b[0m\u001b[0;34m,\u001b[0m \u001b[0mdraw_params\u001b[0m\u001b[0;34m,\u001b[0m \u001b[0mcall_stack\u001b[0m\u001b[0;34m)\u001b[0m\u001b[0;34m\u001b[0m\u001b[0;34m\u001b[0m\u001b[0m\n\u001b[0m",
      "\u001b[0;32m~/miniconda2/envs/driv2/lib/python3.7/site-packages/commonroad/visualization/mp_renderer.py\u001b[0m in \u001b[0;36mdraw_scenario\u001b[0;34m(self, obj, draw_params, call_stack)\u001b[0m\n\u001b[1;32m    396\u001b[0m         \u001b[0;31m# Draw all objects\u001b[0m\u001b[0;34m\u001b[0m\u001b[0;34m\u001b[0m\u001b[0;34m\u001b[0m\u001b[0m\n\u001b[1;32m    397\u001b[0m         \u001b[0;32mfor\u001b[0m \u001b[0mo\u001b[0m \u001b[0;32min\u001b[0m \u001b[0mdyn_obs\u001b[0m\u001b[0;34m:\u001b[0m\u001b[0;34m\u001b[0m\u001b[0;34m\u001b[0m\u001b[0m\n\u001b[0;32m--> 398\u001b[0;31m             \u001b[0mo\u001b[0m\u001b[0;34m.\u001b[0m\u001b[0mdraw\u001b[0m\u001b[0;34m(\u001b[0m\u001b[0mself\u001b[0m\u001b[0;34m,\u001b[0m \u001b[0mdraw_params\u001b[0m\u001b[0;34m,\u001b[0m \u001b[0mcall_stack\u001b[0m\u001b[0;34m)\u001b[0m\u001b[0;34m\u001b[0m\u001b[0;34m\u001b[0m\u001b[0m\n\u001b[0m\u001b[1;32m    399\u001b[0m         \u001b[0;32mfor\u001b[0m \u001b[0mo\u001b[0m \u001b[0;32min\u001b[0m \u001b[0mstatic_obs\u001b[0m\u001b[0;34m:\u001b[0m\u001b[0;34m\u001b[0m\u001b[0;34m\u001b[0m\u001b[0m\n\u001b[1;32m    400\u001b[0m             \u001b[0mo\u001b[0m\u001b[0;34m.\u001b[0m\u001b[0mdraw\u001b[0m\u001b[0;34m(\u001b[0m\u001b[0mself\u001b[0m\u001b[0;34m,\u001b[0m \u001b[0mdraw_params\u001b[0m\u001b[0;34m,\u001b[0m \u001b[0mcall_stack\u001b[0m\u001b[0;34m)\u001b[0m\u001b[0;34m\u001b[0m\u001b[0;34m\u001b[0m\u001b[0m\n",
      "\u001b[0;32m~/miniconda2/envs/driv2/lib/python3.7/site-packages/commonroad/scenario/obstacle.py\u001b[0m in \u001b[0;36mdraw\u001b[0;34m(self, renderer, draw_params, call_stack)\u001b[0m\n\u001b[1;32m    457\u001b[0m              \u001b[0mdraw_params\u001b[0m\u001b[0;34m:\u001b[0m \u001b[0mUnion\u001b[0m\u001b[0;34m[\u001b[0m\u001b[0mParamServer\u001b[0m\u001b[0;34m,\u001b[0m \u001b[0mdict\u001b[0m\u001b[0;34m,\u001b[0m \u001b[0;32mNone\u001b[0m\u001b[0;34m]\u001b[0m \u001b[0;34m=\u001b[0m \u001b[0;32mNone\u001b[0m\u001b[0;34m,\u001b[0m\u001b[0;34m\u001b[0m\u001b[0;34m\u001b[0m\u001b[0m\n\u001b[1;32m    458\u001b[0m              call_stack: Optional[Tuple[str, ...]] = tuple()):\n\u001b[0;32m--> 459\u001b[0;31m         \u001b[0mrenderer\u001b[0m\u001b[0;34m.\u001b[0m\u001b[0mdraw_dynamic_obstacle\u001b[0m\u001b[0;34m(\u001b[0m\u001b[0mself\u001b[0m\u001b[0;34m,\u001b[0m \u001b[0mdraw_params\u001b[0m\u001b[0;34m,\u001b[0m \u001b[0mcall_stack\u001b[0m\u001b[0;34m)\u001b[0m\u001b[0;34m\u001b[0m\u001b[0;34m\u001b[0m\u001b[0m\n\u001b[0m\u001b[1;32m    460\u001b[0m \u001b[0;34m\u001b[0m\u001b[0m\n\u001b[1;32m    461\u001b[0m \u001b[0;34m\u001b[0m\u001b[0m\n",
      "\u001b[0;32m~/miniconda2/envs/driv2/lib/python3.7/site-packages/commonroad/visualization/mp_renderer.py\u001b[0m in \u001b[0;36mdraw_dynamic_obstacle\u001b[0;34m(self, obj, draw_params, call_stack)\u001b[0m\n\u001b[1;32m    456\u001b[0m         \u001b[0mdraw_history\u001b[0m \u001b[0;34m=\u001b[0m \u001b[0mdraw_params\u001b[0m\u001b[0;34m.\u001b[0m\u001b[0mby_callstack\u001b[0m\u001b[0;34m(\u001b[0m\u001b[0mcall_stack\u001b[0m\u001b[0;34m,\u001b[0m \u001b[0;34m(\u001b[0m\u001b[0;34m'history'\u001b[0m\u001b[0;34m,\u001b[0m \u001b[0;34m'draw_history'\u001b[0m\u001b[0;34m)\u001b[0m\u001b[0;34m)\u001b[0m\u001b[0;34m\u001b[0m\u001b[0;34m\u001b[0m\u001b[0m\n\u001b[1;32m    457\u001b[0m \u001b[0;34m\u001b[0m\u001b[0m\n\u001b[0;32m--> 458\u001b[0;31m         \u001b[0;32mif\u001b[0m \u001b[0mobj\u001b[0m\u001b[0;34m.\u001b[0m\u001b[0mprediction\u001b[0m\u001b[0;34m.\u001b[0m\u001b[0mfinal_time_step\u001b[0m \u001b[0;34m<\u001b[0m \u001b[0mtime_begin\u001b[0m \u001b[0;32mor\u001b[0m \u001b[0mobj\u001b[0m\u001b[0;34m.\u001b[0m\u001b[0minitial_state\u001b[0m\u001b[0;34m.\u001b[0m\u001b[0mtime_step\u001b[0m \u001b[0;34m>\u001b[0m \u001b[0mtime_end\u001b[0m\u001b[0;34m:\u001b[0m\u001b[0;34m\u001b[0m\u001b[0;34m\u001b[0m\u001b[0m\n\u001b[0m\u001b[1;32m    459\u001b[0m             \u001b[0;32mreturn\u001b[0m\u001b[0;34m\u001b[0m\u001b[0;34m\u001b[0m\u001b[0m\n\u001b[1;32m    460\u001b[0m \u001b[0;34m\u001b[0m\u001b[0m\n",
      "\u001b[0;31mAttributeError\u001b[0m: 'NoneType' object has no attribute 'final_time_step'"
     ]
    },
    {
     "data": {
      "image/png": "[encoded data removed]",
      "text/plain": [
       "<Figure size 1800x720 with 1 Axes>"
      ]
     },
     "metadata": {
      "needs_background": "light"
     },
     "output_type": "display_data"
    }
   ],
   "source": [
    "cartesian_point = np.array([10, -25])\n",
    "project_and_plot(curvilinear_cosy, cartesian_point)"
   ]
  },
  {
   "cell_type": "code",
   "execution_count": null,
   "metadata": {
    "pycharm": {
     "name": "#%%\n"
    }
   },
   "outputs": [],
   "source": []
  }
 ],
 "metadata": {
  "kernelspec": {
   "display_name": "Python 3",
   "language": "python",
   "name": "python3"
  },
  "language_info": {
   "codemirror_mode": {
    "name": "ipython",
    "version": 3
   },
   "file_extension": ".py",
   "mimetype": "text/x-python",
   "name": "python",
   "nbconvert_exporter": "python",
   "pygments_lexer": "ipython3",
   "version": "3.7.10"
  }
 },
 "nbformat": 4,
 "nbformat_minor": 1
}
