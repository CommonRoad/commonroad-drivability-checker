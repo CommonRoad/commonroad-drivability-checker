{
 "cells": [
  {
   "cell_type": "markdown",
   "metadata": {},
   "source": [
    "# Tutorial 03: road compliance checking\n",
    "\n",
    "The collision checker library provides a convenient way to construct the road boundary for a scenario and check if the vehicle is within the road.\n"
   ]
  },
  {
   "cell_type": "markdown",
   "metadata": {},
   "source": [
    "## 1 Load the scenario"
   ]
  },
  {
   "cell_type": "code",
   "execution_count": null,
   "metadata": {
    "pycharm": {
     "is_executing": false
    }
   },
   "outputs": [],
   "source": [
    "%matplotlib inline\n",
    "# commonroad\n",
    "from commonroad.geometry.shape import Polygon, ShapeGroup, Shape, Rectangle\n",
    "from commonroad.scenario.lanelet import LaneletNetwork\n",
    "from commonroad.scenario.obstacle import StaticObstacle, ObstacleType\n",
    "from commonroad.scenario.scenario import Scenario\n",
    "from commonroad.scenario.trajectory import State\n",
    "from commonroad.common.file_reader import CommonRoadFileReader\n",
    "\n",
    "#commonroad_dc\n",
    "\n",
    "from commonroad_dc.collision.visualization.draw_dispatch import draw_object\n",
    "from commonroad_dc.collision.collision_detection.pycrcc_collision_dispatch import create_collision_checker, create_collision_object\n",
    "import commonroad_dc.pycrcc as pycrcc\n",
    "from commonroad_dc.boundary import boundary\n",
    "from commonroad_dc.collision.trajectory_queries import trajectory_queries\n",
    "from commonroad_dc.pycrcc.Util import trajectory_enclosure_polygons_static\n",
    "\n",
    "\n",
    "import numpy as np\n",
    "from time import time\n",
    "\n",
    "\n",
    "import matplotlib.pyplot as plt\n",
    "\n",
    "def open_scenario(scenario_filename):\n",
    "\n",
    "    crfr = CommonRoadFileReader(\n",
    "        scenario_filename)\n",
    "    scenario, planning_problem_set = crfr.open()\n",
    "    return scenario, planning_problem_set\n",
    "\n",
    "#open the example scenario\n",
    "scenario, planning_problem_set = open_scenario(\"Tut_compliance.xml\")\n",
    "\n",
    "\n",
    "# plot the scenario\n",
    "plt.figure(figsize=(25, 10))\n",
    "draw_object(scenario)\n",
    "draw_object(planning_problem_set)\n",
    "plt.autoscale()\n",
    "plt.gca().set_aspect('equal')\n",
    "plt.show()\n"
   ]
  },
  {
   "cell_type": "markdown",
   "metadata": {},
   "source": [
    "## 2 Build the road boundary"
   ]
  },
  {
   "cell_type": "markdown",
   "metadata": {},
   "source": [
    "### 2.1.1 Triangles"
   ]
  },
  {
   "cell_type": "code",
   "execution_count": null,
   "metadata": {
    "pycharm": {
     "is_executing": false
    }
   },
   "outputs": [],
   "source": [
    "time1=time()\n",
    "road_boundary_obstacle, road_boundary_sg_triangles=boundary.create_road_boundary_obstacle(scenario, method='triangulation')\n",
    "time2=time()\n",
    "\n",
    "print(time2-time1)\n",
    "\n",
    "# draw the road boundary\n",
    "plt.figure(figsize=(25, 10))\n",
    "draw_object(road_boundary_sg_triangles)\n",
    "plt.autoscale()\n",
    "plt.gca().set_aspect('equal')\n",
    "plt.show()\n",
    "print(road_boundary_sg_triangles.size())\n",
    "\n"
   ]
  },
  {
   "cell_type": "markdown",
   "metadata": {},
   "source": [
    "### 2.1.2 Axis-Aligned Triangles (Horizontal)"
   ]
  },
  {
   "cell_type": "code",
   "execution_count": null,
   "metadata": {
    "pycharm": {
     "is_executing": false
    }
   },
   "outputs": [],
   "source": [
    "\n",
    "\n",
    "time1=time()\n",
    "road_boundary_obstacle, road_boundary_sg_aligned_triangles=boundary.create_road_boundary_obstacle(scenario, method='aligned_triangulation', axis=1)\n",
    "time2=time()\n",
    "\n",
    "print(time2-time1)\n",
    "\n",
    "# draw the road boundary\n",
    "plt.figure(figsize=(25, 10))\n",
    "draw_object(road_boundary_sg_aligned_triangles)\n",
    "plt.autoscale()\n",
    "plt.gca().set_aspect('equal')\n",
    "plt.show()\n",
    "\n",
    "print(road_boundary_sg_aligned_triangles.size())\n",
    "\n"
   ]
  },
  {
   "cell_type": "markdown",
   "metadata": {},
   "source": [
    "### 2.1.3 Axis-Aligned Triangles (Vertical)"
   ]
  },
  {
   "cell_type": "code",
   "execution_count": null,
   "metadata": {
    "pycharm": {
     "is_executing": false
    }
   },
   "outputs": [],
   "source": [
    "\n",
    "\n",
    "time1=time()\n",
    "road_boundary_obstacle, road_boundary_sg_aligned_triangles=boundary.create_road_boundary_obstacle(scenario, method='aligned_triangulation', axis=2)\n",
    "time2=time()\n",
    "\n",
    "print(time2-time1)\n",
    "\n",
    "# draw the road boundary\n",
    "plt.figure(figsize=(25, 10))\n",
    "draw_object(road_boundary_sg_aligned_triangles)\n",
    "plt.autoscale()\n",
    "plt.gca().set_aspect('equal')\n",
    "plt.show()\n",
    "\n",
    "print(road_boundary_sg_aligned_triangles.size())\n",
    "\n"
   ]
  },
  {
   "cell_type": "markdown",
   "metadata": {},
   "source": [
    "### 2.2 Rectangles"
   ]
  },
  {
   "cell_type": "code",
   "execution_count": null,
   "metadata": {
    "pycharm": {
     "is_executing": false
    }
   },
   "outputs": [],
   "source": [
    "time1=time()\n",
    "_, road_boundary_sg_rectangles=boundary.create_road_boundary_obstacle(scenario, method='obb_rectangles')\n",
    "time2=time()\n",
    "\n",
    "print(time2-time1)\n",
    "\n",
    "# draw the road boundary\n",
    "plt.figure(figsize=(25, 10))\n",
    "draw_object(road_boundary_sg_rectangles)\n",
    "plt.autoscale()\n",
    "plt.gca().set_aspect('equal')\n",
    "plt.show()\n",
    "\n",
    "print(road_boundary_sg_rectangles.size())\n"
   ]
  },
  {
   "cell_type": "markdown",
   "metadata": {},
   "source": [
    "### 2.3.1 Lane polygons"
   ]
  },
  {
   "cell_type": "code",
   "execution_count": null,
   "metadata": {
    "pycharm": {
     "is_executing": false
    }
   },
   "outputs": [],
   "source": [
    "time1=time()\n",
    "road_boundary_sg_polygons=boundary.create_road_polygons(scenario, method='lane_polygons',buffer=1,resample=1, triangulate=False)\n",
    "time2=time()\n",
    "\n",
    "print(time2-time1)\n",
    "# draw the road boundary\n",
    "plt.figure(figsize=(25, 10))\n",
    "draw_object(road_boundary_sg_polygons)\n",
    "plt.autoscale()\n",
    "plt.gca().set_aspect('equal')\n",
    "plt.show()\n"
   ]
  },
  {
   "cell_type": "markdown",
   "metadata": {},
   "source": [
    "### 2.3.2 Polygons with Holes (Grid)"
   ]
  },
  {
   "cell_type": "code",
   "execution_count": null,
   "metadata": {
    "pycharm": {
     "is_executing": false
    }
   },
   "outputs": [],
   "source": [
    "\n",
    "# length of the ego-vehicle\n",
    "box_length=scenario.dynamic_obstacles[0].prediction.shape.length/2\n",
    "# width of the ego-vehicle\n",
    "box_width=scenario.dynamic_obstacles[0].prediction.shape.width/2\n",
    "\n",
    "time1=time()\n",
    "road_boundary_sg_polygons_grid=boundary.create_road_polygons(scenario, method='whole_polygon_tiled', max_cell_width=box_length*3, max_cell_height=box_length*5,triangulate=False)\n",
    "time2=time()\n",
    "\n",
    "print(time2-time1)\n",
    "# draw the road boundary\n",
    "plt.figure(figsize=(25, 10))\n",
    "draw_object(road_boundary_sg_polygons_grid)\n",
    "#for poly in road_boundary_sg_polygons.unpack():\n",
    "#    draw_object(poly.triangle_mesh())\n",
    "\n",
    "plt.autoscale()\n",
    "plt.gca().set_aspect('equal')\n",
    "plt.show()"
   ]
  },
  {
   "cell_type": "markdown",
   "metadata": {},
   "source": [
    "### 2.3.3 Polygon with Holes"
   ]
  },
  {
   "cell_type": "code",
   "execution_count": null,
   "metadata": {
    "pycharm": {
     "is_executing": false
    }
   },
   "outputs": [],
   "source": [
    "time1=time()\n",
    "road_boundary_sg_polygons=boundary.create_road_polygons(scenario, method='whole_polygon', triangulate=False)\n",
    "time2=time()\n",
    "\n",
    "print(time2-time1)\n",
    "# draw the road boundary\n",
    "plt.figure(figsize=(25, 10))\n",
    "draw_object(road_boundary_sg_polygons)\n",
    "plt.autoscale()\n",
    "plt.gca().set_aspect('equal')\n",
    "plt.show()"
   ]
  },
  {
   "cell_type": "markdown",
   "metadata": {},
   "source": [
    "## Check if the trajectory is within the road"
   ]
  },
  {
   "cell_type": "markdown",
   "metadata": {},
   "source": [
    "### Select part of the trajectory for compliance checks"
   ]
  },
  {
   "cell_type": "code",
   "execution_count": null,
   "metadata": {
    "pycharm": {
     "is_executing": false
    }
   },
   "outputs": [],
   "source": [
    "import commonroad_dc.pycrcc as pycrcc\n",
    "\n",
    "start_step=3\n",
    "\n",
    "# length of the ego-vehicle\n",
    "box_length=scenario.dynamic_obstacles[0].prediction.shape.length/2\n",
    "\n",
    "# width of the ego-vehicle\n",
    "box_width=scenario.dynamic_obstacles[0].prediction.shape.width/2\n",
    "\n",
    "#list with trajectory states that are checked for collisions with the road boudnary\n",
    "traj_list=list()\n",
    "state_list=scenario.dynamic_obstacles[0].prediction.trajectory.state_list\n",
    "\n",
    "# add all trajectory steps from Step 2 onwards to traj_list\n",
    "for el in state_list[start_step:]:\n",
    "\n",
    "    new_el=list()\n",
    "    new_el.append(el.position[0])\n",
    "    new_el.append(el.position[1])\n",
    "    new_el.append(el.orientation)\n",
    "    traj_list.append(new_el)\n",
    "    \n",
    "#draw the ego-vehicle at Step i of the traj_list\n",
    "i=0\n",
    "obb=pycrcc.RectOBB(box_length,box_width , traj_list[i][2],traj_list[i][0],traj_list[i][1])\n",
    "obb_next=pycrcc.RectOBB(box_length,box_width , traj_list[i+1][2],traj_list[i+1][0],traj_list[i+1][1])\n",
    "\n",
    "obb_merged=obb.merge(obb_next)\n",
    "\n",
    "\n",
    "# draw the road boundary\n",
    "plt.figure(figsize=(25, 25))\n",
    "draw_object(road_boundary_sg_triangles)\n",
    "#draw_object(road_boundary_sg_polygons)\n",
    "\n",
    "\n",
    "draw_object(obb)\n",
    "draw_object(obb_next)\n",
    "draw_object(obb_merged)\n",
    "\n",
    "#plt.ylim(-7,12)\n",
    "#plt.xlim(25,75)\n",
    "\n",
    "plt.autoscale()\n",
    "plt.gca().set_aspect('equal')\n",
    "\n",
    "plt.show()\n"
   ]
  },
  {
   "cell_type": "code",
   "execution_count": null,
   "metadata": {
    "pycharm": {
     "is_executing": false
    }
   },
   "outputs": [],
   "source": [
    "def create_tvobstacle(traj_list,box_length,box_width):\n",
    "    retObj=pycrcc.TimeVariantCollisionObject(0)\n",
    "    for time_step in traj_list:\n",
    "        retObj.append_obstacle(pycrcc.RectOBB(box_length, box_width, time_step[2],time_step[0],time_step[1]))\n",
    "    return retObj    \n",
    "    \n",
    "    \n",
    "co=create_tvobstacle(traj_list,box_length,box_width)"
   ]
  },
  {
   "cell_type": "code",
   "execution_count": null,
   "metadata": {},
   "outputs": [],
   "source": [
    "preprocessed_trajectories=list()\n",
    "trajectories_first_object=list()\n",
    "for el in range(1000):\n",
    "    trajectories_first_object.append(traj_list[start_step:start_step])\n",
    "cur_time_1=time()\n",
    "for el in range(1000):\n",
    "    traj, err=trajectory_queries.trajectory_preprocess_obb_sum(co)\n",
    "    if(err):\n",
    "        raise Exception(\"trajectory preprocessing error\")\n",
    "    preprocessed_trajectories.append(traj)\n",
    "\n",
    "cur_time_2 = time()\n",
    "\n",
    "print('trajectory preprocessing time (OBB sum hull) for 1000 trajectories: ' + str(cur_time_2-cur_time_1))"
   ]
  },
  {
   "cell_type": "markdown",
   "metadata": {},
   "source": [
    "### Method 1: Collision Checks - triangles"
   ]
  },
  {
   "cell_type": "code",
   "execution_count": null,
   "metadata": {},
   "outputs": [],
   "source": [
    "num_trials=10\n",
    "\n",
    "from time import time\n",
    "cur_time_1=time()\n",
    "for i in range(num_trials):\n",
    "    candidate_trajectories=list()\n",
    "    for ind,el in enumerate(trajectories_first_object):\n",
    "        if trajectory_enclosure_polygons_static(road_boundary_sg_polygons,box_length, box_width, el)==-1:    \n",
    "            candidate_trajectories.append(preprocessed_trajectories[ind])\n",
    "    ret=trajectory_queries.trajectories_collision_static_obstacles(candidate_trajectories, road_boundary_sg_aligned_triangles, method='grid', num_cells=32, auto_orientation=True)\n",
    "\n",
    "    \n",
    "cur_time_2 = time()\n",
    "print(\"Time for 1000 trajectory checks: \" + str((cur_time_2-cur_time_1)/num_trials)+ \" sec.\")\n"
   ]
  },
  {
   "cell_type": "markdown",
   "metadata": {},
   "source": [
    "### Method 2: Polygon enclosure checks"
   ]
  },
  {
   "cell_type": "code",
   "execution_count": null,
   "metadata": {},
   "outputs": [],
   "source": [
    "num_trials=10\n",
    "\n",
    "from time import time\n",
    "cur_time_1=time()\n",
    "for i in range(num_trials):\n",
    "    candidate_trajectories=list()\n",
    "    for ind,el in enumerate(preprocessed_trajectories):\n",
    "        candidate_trajectories.append(el)\n",
    "    ret=trajectory_queries.trajectories_enclosure_polygons_static(candidate_trajectories, road_boundary_sg_polygons_grid, method='grid', num_cells=32, enable_verification=False)\n",
    "\n",
    "cur_time_2 = time()\n",
    "print(\"Time for 1000 trajectory checks: \" + str((cur_time_2-cur_time_1)/num_trials)+ \" sec.\")"
   ]
  },
  {
   "cell_type": "markdown",
   "metadata": {},
   "source": [
    "### Method 3: OBB rectangle boundary"
   ]
  },
  {
   "cell_type": "code",
   "execution_count": null,
   "metadata": {
    "pycharm": {
     "is_executing": false
    }
   },
   "outputs": [],
   "source": [
    "num_trials=10\n",
    "\n",
    "from time import time\n",
    "cur_time_1=time()\n",
    "for i in range(num_trials):\n",
    "    candidate_trajectories=list()\n",
    "    for ind,el in enumerate(trajectories_first_object):\n",
    "        if trajectory_enclosure_polygons_static(road_boundary_sg_polygons,box_length, box_width, el)==-1:    \n",
    "            candidate_trajectories.append(preprocessed_trajectories[ind])\n",
    "    ret=trajectory_queries.trajectories_collision_static_obstacles(candidate_trajectories, road_boundary_sg_rectangles, method='grid', num_cells=32, auto_orientation=True)\n",
    "\n",
    "    \n",
    "cur_time_2 = time()\n",
    "print(\"Time for 1000 trajectory checks: \" + str((cur_time_2-cur_time_1)/num_trials)+ \" sec.\")\n"
   ]
  }
 ],
 "metadata": {
  "kernelspec": {
   "display_name": "Python 3",
   "language": "python",
   "name": "python3"
  },
  "language_info": {
   "codemirror_mode": {
    "name": "ipython",
    "version": 3
   },
   "file_extension": ".py",
   "mimetype": "text/x-python",
   "name": "python",
   "nbconvert_exporter": "python",
   "pygments_lexer": "ipython3",
   "version": "3.7.0"
  }
 },
 "nbformat": 4,
 "nbformat_minor": 4
}
